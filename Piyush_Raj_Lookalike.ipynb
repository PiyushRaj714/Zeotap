{
 "cells": [
  {
   "cell_type": "markdown",
   "id": "0c053679",
   "metadata": {},
   "source": [
    "# Lookalike Model for Customer Similarity"
   ]
  },
  {
   "cell_type": "markdown",
   "id": "182b5ac3",
   "metadata": {},
   "source": [
    "\n",
    "## Overview\n",
    "This notebook builds a **Lookalike Model** to find similar customers based on profile and transaction history.\n",
    "\n",
    "### Steps:\n",
    "1. Load and merge datasets (`Customers.csv`, `Products.csv`, `Transactions.csv`)\n",
    "2. Create customer profile embeddings using product preferences and demographics.\n",
    "3. Compute customer similarity using **cosine similarity**.\n",
    "4. Recommend top 3 similar customers for each of the first 20 customers (`C0001 - C0020`).\n",
    "5. Save the results to `Lookalike.csv`.\n",
    "\n",
    "---\n"
   ]
  },
  {
   "cell_type": "code",
   "execution_count": null,
   "id": "0811d1d4",
   "metadata": {},
   "outputs": [],
   "source": [
    "\n",
    "# Import required libraries\n",
    "import pandas as pd\n",
    "import numpy as np\n",
    "from sklearn.preprocessing import StandardScaler\n",
    "from sklearn.metrics.pairwise import cosine_similarity\n",
    "\n",
    "# Load datasets\n",
    "customers = pd.read_csv('Customers.csv')\n",
    "products = pd.read_csv('Products.csv')\n",
    "transactions = pd.read_csv('Transactions.csv')\n",
    "\n",
    "# Convert dates to datetime format\n",
    "customers['SignupDate'] = pd.to_datetime(customers['SignupDate'])\n",
    "transactions['TransactionDate'] = pd.to_datetime(transactions['TransactionDate'])\n",
    "\n",
    "# Merge transactions with customers and products\n",
    "data = transactions.merge(customers, on='CustomerID').merge(products, on='ProductID')\n",
    "\n",
    "# Display sample data\n",
    "data.head()\n"
   ]
  },
  {
   "cell_type": "code",
   "execution_count": null,
   "id": "0edc6d6a",
   "metadata": {},
   "outputs": [],
   "source": [
    "\n",
    "# Create customer profile embeddings\n",
    "\n",
    "# Aggregate transaction history by customer\n",
    "customer_features = data.groupby(['CustomerID', 'Category'])['TotalValue'].sum().unstack(fill_value=0)\n",
    "\n",
    "# Normalize data\n",
    "scaler = StandardScaler()\n",
    "customer_features_scaled = scaler.fit_transform(customer_features)\n",
    "\n",
    "# Convert to DataFrame\n",
    "customer_embeddings = pd.DataFrame(customer_features_scaled, index=customer_features.index)\n",
    "\n",
    "# Display sample embeddings\n",
    "customer_embeddings.head()\n"
   ]
  },
  {
   "cell_type": "code",
   "execution_count": null,
   "id": "27df82ed",
   "metadata": {},
   "outputs": [],
   "source": [
    "\n",
    "# Compute cosine similarity between customers\n",
    "similarity_matrix = cosine_similarity(customer_embeddings)\n",
    "similarity_df = pd.DataFrame(similarity_matrix, index=customer_embeddings.index, columns=customer_embeddings.index)\n",
    "\n",
    "# Function to get top 3 similar customers\n",
    "def get_top_lookalikes(customer_id, n=3):\n",
    "    similar_customers = similarity_df[customer_id].sort_values(ascending=False).iloc[1:n+1]\n",
    "    return list(zip(similar_customers.index, similar_customers.values))\n",
    "\n",
    "# Generate lookalikes for the first 20 customers (C0001 - C0020)\n",
    "lookalike_dict = {cust: get_top_lookalikes(cust) for cust in customers['CustomerID'][:20]}\n",
    "\n",
    "# Convert to DataFrame\n",
    "lookalike_df = pd.DataFrame([(k, v[0][0], v[0][1], v[1][0], v[1][1], v[2][0], v[2][1]) for k, v in lookalike_dict.items()], \n",
    "                            columns=['CustomerID', 'Lookalike1', 'Score1', 'Lookalike2', 'Score2', 'Lookalike3', 'Score3'])\n",
    "\n",
    "# Save to CSV\n",
    "lookalike_df.to_csv('Lookalike.csv', index=False)\n",
    "\n",
    "# Display lookalike results\n",
    "lookalike_df.head()\n"
   ]
  }
 ],
 "metadata": {},
 "nbformat": 4,
 "nbformat_minor": 5
}