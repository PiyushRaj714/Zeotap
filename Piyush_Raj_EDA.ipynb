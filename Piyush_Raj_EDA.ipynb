{
 "cells": [
  {
   "cell_type": "markdown",
   "id": "26a19e99",
   "metadata": {},
   "source": [
    "# EDA for eCommerce Transactions Dataset"
   ]
  },
  {
   "cell_type": "markdown",
   "id": "819f658b",
   "metadata": {},
   "source": [
    "\n",
    "This notebook performs Exploratory Data Analysis (EDA) on the eCommerce Transactions dataset.\n",
    "The dataset consists of three files: `Customers.csv`, `Products.csv`, and `Transactions.csv`.\n",
    "\n",
    "### Steps Included:\n",
    "1. Load and inspect the data\n",
    "2. Data preprocessing and cleaning\n",
    "3. Exploratory analysis and visualizations\n",
    "4. Business insights\n"
   ]
  },
  {
   "cell_type": "code",
   "execution_count": null,
   "id": "4a2e2beb",
   "metadata": {},
   "outputs": [],
   "source": [
    "\n",
    "# Import necessary libraries\n",
    "import pandas as pd\n",
    "import numpy as np\n",
    "import matplotlib.pyplot as plt\n",
    "import seaborn as sns\n",
    "\n",
    "# Set plot styles\n",
    "sns.set(style=\"whitegrid\")\n",
    "plt.rcParams['figure.figsize'] = (10, 6)\n"
   ]
  },
  {
   "cell_type": "code",
   "execution_count": null,
   "id": "ae161068",
   "metadata": {},
   "outputs": [],
   "source": [
    "\n",
    "# Load the datasets\n",
    "customers = pd.read_csv('Customers.csv')\n",
    "products = pd.read_csv('Products.csv')\n",
    "transactions = pd.read_csv('Transactions.csv')\n",
    "\n",
    "# Preview the datasets\n",
    "print(\"Customers Head:\")\n",
    "print(customers.head())\n",
    "\n",
    "print(\"\\nProducts Head:\")\n",
    "print(products.head())\n",
    "\n",
    "print(\"\\nTransactions Head:\")\n",
    "print(transactions.head())\n"
   ]
  },
  {
   "cell_type": "code",
   "execution_count": null,
   "id": "fa6756f6",
   "metadata": {},
   "outputs": [],
   "source": [
    "\n",
    "# Convert date columns to datetime format\n",
    "customers['SignupDate'] = pd.to_datetime(customers['SignupDate'])\n",
    "transactions['TransactionDate'] = pd.to_datetime(transactions['TransactionDate'])\n",
    "\n",
    "# Merge datasets for analysis\n",
    "trans_customers = pd.merge(transactions, customers, on='CustomerID', how='left')\n",
    "full_data = pd.merge(trans_customers, products, on='ProductID', how='left')\n",
    "\n",
    "# Check for missing values\n",
    "print(\"\\nMissing Values in Full Data:\")\n",
    "print(full_data.isnull().sum())\n",
    "\n",
    "# Check data types\n",
    "print(\"\\nData Types in Full Data:\")\n",
    "print(full_data.dtypes)\n"
   ]
  },
  {
   "cell_type": "code",
   "execution_count": null,
   "id": "32414506",
   "metadata": {},
   "outputs": [],
   "source": [
    "\n",
    "# EDA: Distribution of Customers by Region\n",
    "plt.figure()\n",
    "sns.countplot(x='Region', data=customers, order=customers['Region'].value_counts().index)\n",
    "plt.title(\"Customer Distribution by Region\")\n",
    "plt.xlabel(\"Region\")\n",
    "plt.ylabel(\"Number of Customers\")\n",
    "plt.xticks(rotation=45)\n",
    "plt.tight_layout()\n",
    "plt.show()\n"
   ]
  },
  {
   "cell_type": "code",
   "execution_count": null,
   "id": "d3ee607a",
   "metadata": {},
   "outputs": [],
   "source": [
    "\n",
    "# EDA: Monthly Transaction Trends\n",
    "full_data['TransactionMonth'] = full_data['TransactionDate'].dt.to_period('M')\n",
    "monthly_transactions = full_data.groupby('TransactionMonth').size().reset_index(name='Count')\n",
    "\n",
    "plt.figure()\n",
    "sns.lineplot(x='TransactionMonth', y='Count', data=monthly_transactions, marker=\"o\")\n",
    "plt.title(\"Monthly Transaction Trends\")\n",
    "plt.xlabel(\"Month\")\n",
    "plt.ylabel(\"Number of Transactions\")\n",
    "plt.xticks(rotation=45)\n",
    "plt.tight_layout()\n",
    "plt.show()\n"
   ]
  },
  {
   "cell_type": "code",
   "execution_count": null,
   "id": "4fe4d56b",
   "metadata": {},
   "outputs": [],
   "source": [
    "\n",
    "# EDA: Sales by Product Category\n",
    "category_sales = full_data.groupby('Category')['TotalValue'].sum().reset_index()\n",
    "\n",
    "plt.figure()\n",
    "sns.barplot(x='Category', y='TotalValue', data=category_sales, order=category_sales.sort_values('TotalValue', ascending=False)['Category'])\n",
    "plt.title(\"Total Sales by Product Category\")\n",
    "plt.xlabel(\"Category\")\n",
    "plt.ylabel(\"Total Sales (USD)\")\n",
    "plt.xticks(rotation=45)\n",
    "plt.tight_layout()\n",
    "plt.show()\n"
   ]
  },
  {
   "cell_type": "code",
   "execution_count": null,
   "id": "13a7f433",
   "metadata": {},
   "outputs": [],
   "source": [
    "\n",
    "# EDA: Price Distribution of Products\n",
    "plt.figure()\n",
    "sns.histplot(products['Price'], kde=True)\n",
    "plt.title(\"Distribution of Product Prices\")\n",
    "plt.xlabel(\"Price (USD)\")\n",
    "plt.ylabel(\"Frequency\")\n",
    "plt.tight_layout()\n",
    "plt.show()\n"
   ]
  },
  {
   "cell_type": "code",
   "execution_count": null,
   "id": "f3c75445",
   "metadata": {},
   "outputs": [],
   "source": [
    "\n",
    "# EDA: Price vs Quantity Purchased\n",
    "plt.figure()\n",
    "sns.scatterplot(x='Price_x', y='Quantity', data=full_data)  # Price_x from transactions dataset\n",
    "plt.title(\"Price vs. Quantity Purchased\")\n",
    "plt.xlabel(\"Transaction Price (USD)\")\n",
    "plt.ylabel(\"Quantity Purchased\")\n",
    "plt.tight_layout()\n",
    "plt.show()\n"
   ]
  }
 ],
 "metadata": {},
 "nbformat": 4,
 "nbformat_minor": 5
}